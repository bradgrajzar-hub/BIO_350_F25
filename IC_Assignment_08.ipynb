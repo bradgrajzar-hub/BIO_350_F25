{
 "cells": [
  {
   "cell_type": "markdown",
   "id": "c78b3954",
   "metadata": {},
   "source": [
    "Create a Program from CH. 7 of the Handbook. \n",
    "\n",
    "- The Program should take the inputs and answers the following questions \n",
    "- Probability we will find 2 eggs in the 1st nest we check? \n",
    "-Probability team will get 3 nests in a row with 1 egg? \n",
    "-average number or egss per nest? \n",
    "\n",
    "- Finally be able to adjust the input parameters \n",
    "- such as how many nests with 1/2/3 eggs \n",
    "- How many nests in a row with 1 egg\n"
   ]
  },
  {
   "cell_type": "code",
   "execution_count": null,
   "id": "5bc76d69",
   "metadata": {},
   "outputs": [
    {
     "name": "stdout",
     "output_type": "stream",
     "text": [
      "Handbook counts\n",
      "Inputs: 1-egg=4, 2-egg=14, 3-egg=2, k=3\n",
      "P(2 eggs in first nest): 70.00%\n",
      "P(3 nests in a row with 1 egg): 0.800%\n",
      "Average eggs per nest: 1.90\n",
      "Given matrix counts\n",
      "Inputs: 1-egg=17, 2-egg=29, 3-egg=7, k=3\n",
      "P(2 eggs in first nest): 54.72%\n",
      "P(3 nests in a row with 1 egg): 3.300%\n",
      "Average eggs per nest: 1.81\n"
     ]
    }
   ],
   "source": [
    "\n",
    "\n",
    "def egg_stats(n1, n2, n3, k_in_a_row=3):\n",
    "    \"\"\"\n",
    "    Returns a tuple with:\n",
    "    1) P(2 eggs in the first nest)\n",
    "    2) P(k nests in a row with 1 egg)\n",
    "    3) Average number of eggs per nest\n",
    "    \"\"\"\n",
    "    total = n1 + n2 + n3\n",
    "    if total <= 0:\n",
    "        raise ValueError(\"Total nests must be > 0\")\n",
    "\n",
    "    p1 = n1 / total\n",
    "    p2 = n2 / total\n",
    "    p3 = n3 / total\n",
    "\n",
    "    p_two_first = p2\n",
    "    p_k_row_one = p1 ** k_in_a_row\n",
    "    avg_eggs = 1*p1 + 2*p2 + 3*p3\n",
    "\n",
    "    return p_two_first, p_k_row_one, avg_eggs\n",
    "\n",
    "\n",
    "def show_results(title, n1, n2, n3, k):\n",
    "    p_two, p_row, avg = egg_stats(n1, n2, n3, k)\n",
    "    print(title)\n",
    "    print(f\"Inputs: 1-egg={n1}, 2-egg={n2}, 3-egg={n3}, k={k}\")\n",
    "    print(f\"P(2 eggs in first nest): {p_two:.2%}\")\n",
    "    print(f\"P({k} nests in a row with 1 egg): {p_row:.3%}\")\n",
    "    print(f\"Average eggs per nest: {avg:.2f}\")\n",
    " \n",
    "\n",
    "\n",
    "if __name__ == \"__main__\":\n",
    "    # 1) Original handbook counts\n",
    "    show_results(\"Handbook counts\", n1=4, n2=14, n3=2, k=3)\n",
    "\n",
    "    # 2) Your matrix: 17 with 1 egg, 29 with 2 eggs, 7 with 3 eggs\n",
    "    show_results(\"Given matrix counts\", n1=17, n2=29, n3=7, k=3)\n",
    "\n"
   ]
  }
 ],
 "metadata": {
  "kernelspec": {
   "display_name": "IC_assignments",
   "language": "python",
   "name": "python3"
  },
  "language_info": {
   "codemirror_mode": {
    "name": "ipython",
    "version": 3
   },
   "file_extension": ".py",
   "mimetype": "text/x-python",
   "name": "python",
   "nbconvert_exporter": "python",
   "pygments_lexer": "ipython3",
   "version": "3.13.5"
  }
 },
 "nbformat": 4,
 "nbformat_minor": 5
}
